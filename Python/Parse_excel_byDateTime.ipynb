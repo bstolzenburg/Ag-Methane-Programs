{
 "cells": [
  {
   "cell_type": "code",
   "execution_count": null,
   "metadata": {},
   "outputs": [],
   "source": [
    "import pandas as pd\n",
    "from datetime import datetime\n",
    "# This program takes in an excel file and splits the file into separate monthly files based on a datetime column\n",
    "# It will create separate monthly files in the working directory using the extracted month\n",
    "\n",
    "# Defining file name\n",
    "file = r\"LCFS Electricity Data\\PG&E Data\\Raw Files\\11 PGE_Feb-Mar-24.xlsx\"    # Modify file path as needed\n",
    "\n",
    "# Reading in file\n",
    "df = pd.read_excel(file)\n",
    "print('Read in file: ',file)  "
   ]
  },
  {
   "cell_type": "code",
   "execution_count": null,
   "metadata": {},
   "outputs": [],
   "source": [
    "# Getting text string for the datetime column\n",
    "date_time = 'elec_intvl_end_dttm'                                                       # Modify column name as needed\n",
    "\n",
    "# Convert to date_time\n",
    "df[date_time] = pd.to_datetime(df[date_time], format = '%m/%d/%Y %H:%M:%S')             # Modify format as needed\n",
    "\n",
    "# Create year_month column\n",
    "df['year_month'] = df[date_time].dt.to_period('M')\n"
   ]
  },
  {
   "cell_type": "code",
   "execution_count": null,
   "metadata": {},
   "outputs": [],
   "source": [
    "# Sorting by date_time\n",
    "df.sort_values(by = date_time)"
   ]
  },
  {
   "cell_type": "code",
   "execution_count": null,
   "metadata": {},
   "outputs": [],
   "source": [
    "# Converting year_month to string \n",
    "df['year_month'].astype(str)"
   ]
  },
  {
   "cell_type": "code",
   "execution_count": null,
   "metadata": {},
   "outputs": [],
   "source": [
    "# Iterating through unique values and filtering dataframe \n",
    "for year_month in df['year_month'].unique():\n",
    "    # Filtering dataframe \n",
    "    df_filt = df[df['year_month'] == year_month].copy()         \n",
    "\n",
    "    # Dropping year_month column from df_filt\n",
    "    df_filt.drop(columns = ['year_month'], inplace = True)\n",
    "\n",
    "    ## Exporting filtered dataframe to excel \n",
    "\n",
    "    # Creating file name \n",
    "\n",
    "    # Creating string for file name using year_month variable\n",
    "    name = datetime.strptime(str(year_month),'%Y-%m')\n",
    "\n",
    "    # Formating datetime object as Month-Year\n",
    "    new_name = name.strftime(\"%B-%y\")\n",
    "\n",
    "    # Creating file name\n",
    "    file_name = f\"PGE_{new_name}.xlsx\"                             # Modify the file name as needed\n",
    "    print(file_name)\n",
    "\n",
    "    # Exporting data to excel files \n",
    "    print(f\"Exporting: {new_name} \\n\")\n",
    "    df_filt.to_excel(file_name, index = False)\n",
    "    print(f\"Successfully exported: {file_name} \\n\")\n",
    "\n",
    "    \n",
    "\n",
    "print('Finished')"
   ]
  }
 ],
 "metadata": {
  "kernelspec": {
   "display_name": "Python 3",
   "language": "python",
   "name": "python3"
  },
  "language_info": {
   "codemirror_mode": {
    "name": "ipython",
    "version": 3
   },
   "file_extension": ".py",
   "mimetype": "text/x-python",
   "name": "python",
   "nbconvert_exporter": "python",
   "pygments_lexer": "ipython3",
   "version": "3.11.4"
  }
 },
 "nbformat": 4,
 "nbformat_minor": 2
}
